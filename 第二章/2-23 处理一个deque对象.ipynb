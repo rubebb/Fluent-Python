{
 "cells": [
  {
   "cell_type": "markdown",
   "source": [
    "# 处理一个deque对象"
   ],
   "metadata": {
    "collapsed": false
   },
   "id": "157230dc7097be6f"
  },
  {
   "cell_type": "code",
   "execution_count": 1,
   "id": "initial_id",
   "metadata": {
    "collapsed": true,
    "ExecuteTime": {
     "end_time": "2023-10-31T15:19:45.795040800Z",
     "start_time": "2023-10-31T15:19:45.784030800Z"
    }
   },
   "outputs": [
    {
     "data": {
      "text/plain": "deque([0, 1, 2, 3, 4, 5, 6, 7, 8, 9], maxlen=10)"
     },
     "execution_count": 1,
     "metadata": {},
     "output_type": "execute_result"
    }
   ],
   "source": [
    "from collections import deque\n",
    "\n",
    "dq = deque(range(10), maxlen=10)  # 可选的maxlen参数设定deque示例中最多存放多少项。maxlen也是deque的一个只读项目\n",
    "dq"
   ]
  },
  {
   "cell_type": "code",
   "execution_count": 4,
   "outputs": [
    {
     "data": {
      "text/plain": "deque([1, 2, 3, 4, 5, 6, 7, 8, 9, 0], maxlen=10)"
     },
     "execution_count": 4,
     "metadata": {},
     "output_type": "execute_result"
    }
   ],
   "source": [
    "dq.rotate(3)  # 轮转，当n > 0, 从右端取几项放到左端；当 n < 0,从左端取几项放到右端\n",
    "dq\n"
   ],
   "metadata": {
    "collapsed": false,
    "ExecuteTime": {
     "end_time": "2023-10-31T15:19:59.201115900Z",
     "start_time": "2023-10-31T15:19:59.178095200Z"
    }
   },
   "id": "c2ea97c5783efcf0"
  },
  {
   "cell_type": "code",
   "execution_count": 5,
   "outputs": [
    {
     "data": {
      "text/plain": "deque([5, 6, 7, 8, 9, 0, 1, 2, 3, 4], maxlen=10)"
     },
     "execution_count": 5,
     "metadata": {},
     "output_type": "execute_result"
    }
   ],
   "source": [
    "dq.rotate(-4)\n",
    "dq"
   ],
   "metadata": {
    "collapsed": false,
    "ExecuteTime": {
     "end_time": "2023-10-31T15:20:05.689580100Z",
     "start_time": "2023-10-31T15:20:05.672564Z"
    }
   },
   "id": "39017d48a30acf3b"
  },
  {
   "cell_type": "code",
   "execution_count": 7,
   "outputs": [
    {
     "data": {
      "text/plain": "deque([-1, -1, 5, 6, 7, 8, 9, 0, 1, 2], maxlen=10)"
     },
     "execution_count": 7,
     "metadata": {},
     "output_type": "execute_result"
    }
   ],
   "source": [
    "dq.appendleft(-1)   # 想已满的deque对象中的一段追加几项，则另一端就要丢弃几项。\n",
    "dq"
   ],
   "metadata": {
    "collapsed": false,
    "ExecuteTime": {
     "end_time": "2023-10-31T15:20:20.667456800Z",
     "start_time": "2023-10-31T15:20:20.652443600Z"
    }
   },
   "id": "6eee29ae326c7d5e"
  },
  {
   "cell_type": "code",
   "execution_count": 8,
   "outputs": [
    {
     "data": {
      "text/plain": "deque([6, 7, 8, 9, 0, 1, 2, 11, 22, 33], maxlen=10)"
     },
     "execution_count": 8,
     "metadata": {},
     "output_type": "execute_result"
    }
   ],
   "source": [
    "dq.extend([11, 22, 33]) "
   ],
   "metadata": {
    "collapsed": false,
    "ExecuteTime": {
     "end_time": "2023-10-31T15:20:34.864684Z",
     "start_time": "2023-10-31T15:20:34.845665700Z"
    }
   },
   "id": "5a9d4c1485ce70b3"
  },
  {
   "cell_type": "code",
   "execution_count": 10,
   "outputs": [
    {
     "data": {
      "text/plain": "deque([40, 30, 20, 10, 40, 30, 20, 10, 6, 7], maxlen=10)"
     },
     "execution_count": 10,
     "metadata": {},
     "output_type": "execute_result"
    }
   ],
   "source": [
    "dq.extendleft([10, 20, 30, 40]) # 依次把iter参数中的各项追加到deque对象的左端\n",
    "dq"
   ],
   "metadata": {
    "collapsed": false,
    "ExecuteTime": {
     "end_time": "2023-10-31T15:25:22.538578300Z",
     "start_time": "2023-10-31T15:25:22.488533Z"
    }
   },
   "id": "5b173a7cb00f319a"
  },
  {
   "cell_type": "code",
   "execution_count": null,
   "outputs": [],
   "source": [],
   "metadata": {
    "collapsed": false
   },
   "id": "39804e042c4cb286"
  }
 ],
 "metadata": {
  "kernelspec": {
   "display_name": "Python 3",
   "language": "python",
   "name": "python3"
  },
  "language_info": {
   "codemirror_mode": {
    "name": "ipython",
    "version": 2
   },
   "file_extension": ".py",
   "mimetype": "text/x-python",
   "name": "python",
   "nbconvert_exporter": "python",
   "pygments_lexer": "ipython2",
   "version": "2.7.6"
  }
 },
 "nbformat": 4,
 "nbformat_minor": 5
}
