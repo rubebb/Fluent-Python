{
 "cells": [
  {
   "cell_type": "markdown",
   "source": [
    "# 析构嵌套元组"
   ],
   "metadata": {
    "collapsed": false
   },
   "id": "c31779019a9e6d8a"
  },
  {
   "cell_type": "code",
   "execution_count": 2,
   "outputs": [],
   "source": [
    "metro_areas = [\n",
    "    ('Tokyo', 'JP', 36.933, (35.689722, 139.691667)),  # <1>\n",
    "    ('Delhi NCR', 'IN', 21.935, (28.613889, 77.208889)),\n",
    "    ('Mexico City', 'MX', 20.142, (19.433333, -99.133333)),\n",
    "    ('New York-Newark', 'US', 20.104, (40.808611, -74.020386)),\n",
    "    ('Sao Paulo', 'BR', 19.649, (-23.547778, -46.635833)),\n",
    "]"
   ],
   "metadata": {
    "collapsed": false,
    "ExecuteTime": {
     "end_time": "2023-10-29T12:57:27.549049400Z",
     "start_time": "2023-10-29T12:57:27.538539800Z"
    }
   },
   "id": "834e783377b1bb69"
  },
  {
   "cell_type": "code",
   "execution_count": 3,
   "outputs": [
    {
     "name": "stdout",
     "output_type": "stream",
     "text": [
      "                |  latitude | longtitude\n",
      "Mexico City     |   19.4333 |  -99.1333\n",
      "New York-Newark |   40.8086 |  -74.0204\n",
      "Sao Paulo       |  -23.5478 |  -46.6358\n"
     ]
    }
   ],
   "source": [
    "def main():\n",
    "    print(f'{\"\":15} | {\"latitude\":>9} | {\"longtitude\":>9}')\n",
    "    for record in metro_areas:\n",
    "        match record:\n",
    "            # case [name, _, _, (lat, lon)] if lon < 0:  # 一个case子句由两部分组成：一部分是模式，另一部是使用if关键字指定的卫语句(可选)\n",
    "            case [str(name), _, _, (float(lat), float(lon))] if lon < 0:  # 一个case子句由两部分组成：一部分是模式，另一部是使用if关键字指定的卫语句(可选)\n",
    "                print(f'{name:15} | {lat:9.4f} | {lon:9.4f}')\n",
    "\n",
    "\n",
    "if __name__ == '__main__':\n",
    "    main()"
   ],
   "metadata": {
    "collapsed": false,
    "ExecuteTime": {
     "end_time": "2023-10-29T12:57:28.060988600Z",
     "start_time": "2023-10-29T12:57:28.043974300Z"
    }
   },
   "id": "e35d0aa8bab0ccc7"
  },
  {
   "cell_type": "code",
   "execution_count": null,
   "outputs": [],
   "source": [],
   "metadata": {
    "collapsed": false
   },
   "id": "d18b6f8830ab666d"
  }
 ],
 "metadata": {
  "kernelspec": {
   "display_name": "Python 3",
   "language": "python",
   "name": "python3"
  },
  "language_info": {
   "codemirror_mode": {
    "name": "ipython",
    "version": 2
   },
   "file_extension": ".py",
   "mimetype": "text/x-python",
   "name": "python",
   "nbconvert_exporter": "python",
   "pygments_lexer": "ipython2",
   "version": "2.7.6"
  }
 },
 "nbformat": 4,
 "nbformat_minor": 5
}
