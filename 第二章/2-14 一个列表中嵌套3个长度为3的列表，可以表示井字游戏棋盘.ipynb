{
 "cells": [
  {
   "cell_type": "markdown",
   "source": [
    "# 一个列表中嵌套3个长度为3的列表，可以表示井字游戏棋盘"
   ],
   "metadata": {
    "collapsed": false
   },
   "id": "907312f3d98764b8"
  },
  {
   "cell_type": "code",
   "execution_count": 1,
   "id": "initial_id",
   "metadata": {
    "collapsed": true,
    "ExecuteTime": {
     "end_time": "2023-10-30T14:22:52.147771200Z",
     "start_time": "2023-10-30T14:22:52.125595900Z"
    }
   },
   "outputs": [
    {
     "data": {
      "text/plain": "[['_', '_', '_'], ['_', '_', '_'], ['_', '_', '_']]"
     },
     "execution_count": 1,
     "metadata": {},
     "output_type": "execute_result"
    }
   ],
   "source": [
    "board = [['_'] * 3 for i in range(3)]\n",
    "board"
   ]
  },
  {
   "cell_type": "code",
   "execution_count": 3,
   "outputs": [
    {
     "data": {
      "text/plain": "[['_', '_', '_'], ['_', '_', 'X'], ['_', '_', '_']]"
     },
     "execution_count": 3,
     "metadata": {},
     "output_type": "execute_result"
    }
   ],
   "source": [
    "board[1][2] = 'X'\n",
    "board"
   ],
   "metadata": {
    "collapsed": false,
    "ExecuteTime": {
     "end_time": "2023-10-30T14:23:14.589983600Z",
     "start_time": "2023-10-30T14:23:14.570966200Z"
    }
   },
   "id": "2ec91c20a0c2a81e"
  },
  {
   "cell_type": "code",
   "execution_count": 4,
   "outputs": [
    {
     "data": {
      "text/plain": "[['_', '_', '_'], ['_', '_', '_'], ['_', '_', '_']]"
     },
     "execution_count": 4,
     "metadata": {},
     "output_type": "execute_result"
    }
   ],
   "source": [
    "board = []\n",
    "\n",
    "for i in range(3):\n",
    "    row = ['_'] * 3     # 每次迭代构建了一个新的row，追加到board里\n",
    "    board.append(row)\n",
    "\n",
    "board"
   ],
   "metadata": {
    "collapsed": false,
    "ExecuteTime": {
     "end_time": "2023-10-30T14:26:30.663254800Z",
     "start_time": "2023-10-30T14:26:30.628223200Z"
    }
   },
   "id": "f6d70dd8bbde600f"
  },
  {
   "cell_type": "code",
   "execution_count": null,
   "outputs": [],
   "source": [],
   "metadata": {
    "collapsed": false
   },
   "id": "be8a36fd99e71e95"
  }
 ],
 "metadata": {
  "kernelspec": {
   "display_name": "Python 3",
   "language": "python",
   "name": "python3"
  },
  "language_info": {
   "codemirror_mode": {
    "name": "ipython",
    "version": 2
   },
   "file_extension": ".py",
   "mimetype": "text/x-python",
   "name": "python",
   "nbconvert_exporter": "python",
   "pygments_lexer": "ipython2",
   "version": "2.7.6"
  }
 },
 "nbformat": 4,
 "nbformat_minor": 5
}
