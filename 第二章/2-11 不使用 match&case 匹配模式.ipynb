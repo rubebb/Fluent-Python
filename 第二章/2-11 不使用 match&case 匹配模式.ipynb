{
 "cells": [
  {
   "cell_type": "markdown",
   "source": [
    "# 不使用 match/case 匹配模式"
   ],
   "metadata": {
    "collapsed": false
   },
   "id": "9edef6fd7a294624"
  },
  {
   "cell_type": "code",
   "execution_count": 1,
   "id": "initial_id",
   "metadata": {
    "collapsed": true,
    "ExecuteTime": {
     "end_time": "2023-10-29T13:30:04.925763Z",
     "start_time": "2023-10-29T13:30:04.915754600Z"
    }
   },
   "outputs": [
    {
     "ename": "SyntaxError",
     "evalue": "incomplete input (1830551374.py, line 11)",
     "output_type": "error",
     "traceback": [
      "\u001B[1;36m  Cell \u001B[1;32mIn[1], line 11\u001B[1;36m\u001B[0m\n\u001B[1;33m    \u001B[0m\n\u001B[1;37m    ^\u001B[0m\n\u001B[1;31mSyntaxError\u001B[0m\u001B[1;31m:\u001B[0m incomplete input\n"
     ]
    }
   ],
   "source": [
    "from symtable import Symbol\n",
    "\n",
    "\n",
    "def evaluate(exp, env):\n",
    "    if isinstance(exp, Symbol):\n",
    "        return env[exp]\n",
    "\n",
    "    elif exp[0] == 'quote':\n",
    "        (_, x) = exp\n",
    "        return x\n",
    "    elif exp[0] == 'if':\n",
    "        (_, test, consequence, alternative) = exp\n",
    "        if evaluate(test, env):\n",
    "            return evaluate(consequence, env)\n",
    "        else:\n",
    "            return evaluate(alternative, env)\n",
    "    elif exp[0] == 'lambda':\n",
    "        (_, params, *body) = exp\n",
    "        return Procedure(params, body, env)\n",
    "    elif exp[0] == 'define':\n",
    "        (_, name, value_exp) = exp\n",
    "        env[name] = evaluate(value_exp, env)\n",
    "        "
   ]
  }
 ],
 "metadata": {
  "kernelspec": {
   "display_name": "Python 3",
   "language": "python",
   "name": "python3"
  },
  "language_info": {
   "codemirror_mode": {
    "name": "ipython",
    "version": 2
   },
   "file_extension": ".py",
   "mimetype": "text/x-python",
   "name": "python",
   "nbconvert_exporter": "python",
   "pygments_lexer": "ipython2",
   "version": "2.7.6"
  }
 },
 "nbformat": 4,
 "nbformat_minor": 5
}
