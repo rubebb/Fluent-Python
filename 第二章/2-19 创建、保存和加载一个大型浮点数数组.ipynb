{
 "cells": [
  {
   "cell_type": "markdown",
   "source": [
    "# 创建、保存和加载一个大型浮点数数组"
   ],
   "metadata": {
    "collapsed": false
   },
   "id": "1be125149d36580c"
  },
  {
   "cell_type": "code",
   "execution_count": 11,
   "outputs": [
    {
     "data": {
      "text/plain": "float"
     },
     "execution_count": 11,
     "metadata": {},
     "output_type": "execute_result"
    }
   ],
   "source": [
    "import bisect\n",
    "from array import array\n",
    "from random import random\n",
    "\n",
    "floats = array('d', (random() for i in range(10 ** 7)))     # 从一个可迭代对象中创建一个双精度浮点数数组\n",
    "type(floats[-1])\n"
   ],
   "metadata": {
    "collapsed": false,
    "ExecuteTime": {
     "end_time": "2023-10-30T15:20:03.375112900Z",
     "start_time": "2023-10-30T15:20:02.148561100Z"
    }
   },
   "id": "ae9430d3298fc90c"
  },
  {
   "cell_type": "code",
   "execution_count": 10,
   "outputs": [],
   "source": [
    "fp = open('floats.bin', 'wb')       # 把数组存进一个二进制文件中\n",
    "floats.tofile(fp)\n",
    "fp.close()"
   ],
   "metadata": {
    "collapsed": false,
    "ExecuteTime": {
     "end_time": "2023-10-30T15:14:47.069557100Z",
     "start_time": "2023-10-30T15:14:47.025519100Z"
    }
   },
   "id": "a32b83b71d3679fb"
  },
  {
   "cell_type": "code",
   "execution_count": 8,
   "outputs": [
    {
     "data": {
      "text/plain": "0.4563961655608304"
     },
     "execution_count": 8,
     "metadata": {},
     "output_type": "execute_result"
    }
   ],
   "source": [
    "floats2 = array('d')            #创建一个存放双精度浮点数的空数组\n",
    "fp = open('floats.bin', 'rb')   # 从二进制人间重读取1000个数\n",
    "floats2.fromfile(fp, 10 ** 7)\n",
    "fp.close()\n",
    "floats2[-1]"
   ],
   "metadata": {
    "collapsed": false,
    "ExecuteTime": {
     "end_time": "2023-10-30T15:13:29.848979900Z",
     "start_time": "2023-10-30T15:13:29.788928500Z"
    }
   },
   "id": "c35cf74c1c7047cb"
  },
  {
   "cell_type": "code",
   "execution_count": null,
   "outputs": [],
   "source": [],
   "metadata": {
    "collapsed": false
   },
   "id": "26513a3373845703"
  }
 ],
 "metadata": {
  "kernelspec": {
   "display_name": "Python 3",
   "language": "python",
   "name": "python3"
  },
  "language_info": {
   "codemirror_mode": {
    "name": "ipython",
    "version": 2
   },
   "file_extension": ".py",
   "mimetype": "text/x-python",
   "name": "python",
   "nbconvert_exporter": "python",
   "pygments_lexer": "ipython2",
   "version": "2.7.6"
  }
 },
 "nbformat": 4,
 "nbformat_minor": 5
}
