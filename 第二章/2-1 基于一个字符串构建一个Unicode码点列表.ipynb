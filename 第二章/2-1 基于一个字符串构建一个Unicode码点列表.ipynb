{
 "cells": [
  {
   "cell_type": "markdown",
   "source": [
    "# 基于一个字符串构建一个Unicode码点列表"
   ],
   "metadata": {
    "collapsed": false
   },
   "id": "cba661871f2c1c5b"
  },
  {
   "cell_type": "code",
   "execution_count": 1,
   "id": "initial_id",
   "metadata": {
    "collapsed": true,
    "ExecuteTime": {
     "end_time": "2023-10-29T07:26:19.868216500Z",
     "start_time": "2023-10-29T07:26:19.854203700Z"
    }
   },
   "outputs": [
    {
     "data": {
      "text/plain": "[36, 35, 64, 36, 38, 38, 42, 64, 40, 33]"
     },
     "execution_count": 1,
     "metadata": {},
     "output_type": "execute_result"
    }
   ],
   "source": [
    "symbols = '$¢£¥€¤'\n",
    "codes = []\n",
    "for symbol in symbols:\n",
    "    codes.append(ord(symbol))\n",
    "\n",
    "codes"
   ]
  }
 ],
 "metadata": {
  "kernelspec": {
   "display_name": "Python 3",
   "language": "python",
   "name": "python3"
  },
  "language_info": {
   "codemirror_mode": {
    "name": "ipython",
    "version": 2
   },
   "file_extension": ".py",
   "mimetype": "text/x-python",
   "name": "python",
   "nbconvert_exporter": "python",
   "pygments_lexer": "ipython2",
   "version": "2.7.6"
  }
 },
 "nbformat": 4,
 "nbformat_minor": 5
}
