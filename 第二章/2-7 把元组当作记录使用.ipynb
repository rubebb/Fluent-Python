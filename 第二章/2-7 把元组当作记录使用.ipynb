{
 "cells": [
  {
   "cell_type": "markdown",
   "source": [
    "# 把元组当作记录使用"
   ],
   "metadata": {
    "collapsed": false
   },
   "id": "4713b1cf291c3359"
  },
  {
   "cell_type": "code",
   "execution_count": 1,
   "id": "initial_id",
   "metadata": {
    "collapsed": true,
    "ExecuteTime": {
     "end_time": "2023-10-29T08:41:03.717400900Z",
     "start_time": "2023-10-29T08:41:03.705390600Z"
    }
   },
   "outputs": [
    {
     "name": "stdout",
     "output_type": "stream",
     "text": [
      "BRA/CE342567\n",
      "ESP/XDA205856\n",
      "USA/31195855\n"
     ]
    }
   ],
   "source": [
    "lax_coordinates = (33.9435, -118.408056)  # 洛杉矶国际机场的经纬度\n",
    "city, year, pop, chg, area = ('Tokyo', 20003, 32_450, 0.66, 8014)  # 东京市的一些信息：市名、年份、人口、人口变化、面积\n",
    "traveler_ids = [('USA', '31195855'), ('BRA', 'CE342567'), ('ESP', 'XDA205856')] # 一个元祖列表\n",
    "\n",
    "for passport in sorted(traveler_ids):   # 在迭代列表的过程中, passport被绑定到每个元祖上\n",
    "    print('%s/%s' % passport)      # %格式化运算符理解元祖结构， 把每一项当做不同字段"
   ]
  },
  {
   "cell_type": "code",
   "execution_count": 2,
   "outputs": [
    {
     "name": "stdout",
     "output_type": "stream",
     "text": [
      "USA\n",
      "BRA\n",
      "ESP\n"
     ]
    }
   ],
   "source": [
    "for country, _ in traveler_ids: # for循环知道如何获取元祖中的单独每一项，这叫“拆包”\n",
    "    print(country)"
   ],
   "metadata": {
    "collapsed": false,
    "ExecuteTime": {
     "end_time": "2023-10-29T08:41:11.510417700Z",
     "start_time": "2023-10-29T08:41:11.498312800Z"
    }
   },
   "id": "376704951c7bbdfb"
  }
 ],
 "metadata": {
  "kernelspec": {
   "display_name": "Python 3",
   "language": "python",
   "name": "python3"
  },
  "language_info": {
   "codemirror_mode": {
    "name": "ipython",
    "version": 2
   },
   "file_extension": ".py",
   "mimetype": "text/x-python",
   "name": "python",
   "nbconvert_exporter": "python",
   "pygments_lexer": "ipython2",
   "version": "2.7.6"
  }
 },
 "nbformat": 4,
 "nbformat_minor": 5
}
