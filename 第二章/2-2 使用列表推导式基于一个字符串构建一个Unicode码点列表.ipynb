{
 "cells": [
  {
   "cell_type": "markdown",
   "source": [
    "# 使用列表推导式基于一个字符串构建一个Unicode码点列表"
   ],
   "metadata": {
    "collapsed": false
   },
   "id": "a8c5d55ae3a32943"
  },
  {
   "cell_type": "code",
   "execution_count": null,
   "outputs": [],
   "source": [
    "symbols = '$¢£¥€¤'\n",
    "codes = [ord(symbol) for symbol in symbols]\n",
    "\n",
    "codes"
   ],
   "metadata": {
    "collapsed": false
   },
   "id": "24016376d1ddadc5"
  }
 ],
 "metadata": {
  "kernelspec": {
   "display_name": "Python 3",
   "language": "python",
   "name": "python3"
  },
  "language_info": {
   "codemirror_mode": {
    "name": "ipython",
    "version": 2
   },
   "file_extension": ".py",
   "mimetype": "text/x-python",
   "name": "python",
   "nbconvert_exporter": "python",
   "pygments_lexer": "ipython2",
   "version": "2.7.6"
  }
 },
 "nbformat": 4,
 "nbformat_minor": 5
}
