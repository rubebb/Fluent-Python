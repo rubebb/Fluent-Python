{
 "cells": [
  {
   "cell_type": "markdown",
   "source": [
    "# 不能在一个列中3次引用同一个列表"
   ],
   "metadata": {
    "collapsed": false
   },
   "id": "907312f3d98764b8"
  },
  {
   "cell_type": "code",
   "execution_count": 1,
   "id": "initial_id",
   "metadata": {
    "collapsed": true,
    "ExecuteTime": {
     "end_time": "2023-10-30T14:24:29.971668200Z",
     "start_time": "2023-10-30T14:24:29.963660200Z"
    }
   },
   "outputs": [
    {
     "data": {
      "text/plain": "[['_', '_', '_'], ['_', '_', '_'], ['_', '_', '_']]"
     },
     "execution_count": 1,
     "metadata": {},
     "output_type": "execute_result"
    }
   ],
   "source": [
    "board = [['_'] * 3] * 3\n",
    "board"
   ]
  },
  {
   "cell_type": "code",
   "execution_count": 2,
   "outputs": [
    {
     "data": {
      "text/plain": "[['_', '_', 'X'], ['_', '_', 'X'], ['_', '_', 'X']]"
     },
     "execution_count": 2,
     "metadata": {},
     "output_type": "execute_result"
    }
   ],
   "source": [
    "board[1][2] = 'X'\n",
    "board"
   ],
   "metadata": {
    "collapsed": false,
    "ExecuteTime": {
     "end_time": "2023-10-30T14:24:30.290957300Z",
     "start_time": "2023-10-30T14:24:30.273941900Z"
    }
   },
   "id": "2ec91c20a0c2a81e"
  },
  {
   "cell_type": "code",
   "execution_count": 3,
   "outputs": [],
   "source": [
    "row = ['_'] * 3\n",
    "board = []\n",
    "for i in range(3):\n",
    "    board.append(row)   # 等价于上边的例子，同一个row被append了三次"
   ],
   "metadata": {
    "collapsed": false,
    "ExecuteTime": {
     "end_time": "2023-10-30T14:25:46.592143Z",
     "start_time": "2023-10-30T14:25:46.570123100Z"
    }
   },
   "id": "f6d70dd8bbde600f"
  },
  {
   "cell_type": "code",
   "execution_count": null,
   "outputs": [],
   "source": [],
   "metadata": {
    "collapsed": false
   },
   "id": "a0ac45fdaa5e28e8"
  }
 ],
 "metadata": {
  "kernelspec": {
   "display_name": "Python 3",
   "language": "python",
   "name": "python3"
  },
  "language_info": {
   "codemirror_mode": {
    "name": "ipython",
    "version": 2
   },
   "file_extension": ".py",
   "mimetype": "text/x-python",
   "name": "python",
   "nbconvert_exporter": "python",
   "pygments_lexer": "ipython2",
   "version": "2.7.6"
  }
 },
 "nbformat": 4,
 "nbformat_minor": 5
}
