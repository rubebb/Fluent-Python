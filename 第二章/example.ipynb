{
 "cells": [
  {
   "cell_type": "code",
   "execution_count": 1,
   "id": "initial_id",
   "metadata": {
    "collapsed": true,
    "ExecuteTime": {
     "end_time": "2023-10-28T18:23:20.007406600Z",
     "start_time": "2023-10-28T18:23:19.995395600Z"
    }
   },
   "outputs": [],
   "source": [
    "from array import array\n",
    "\n",
    "ea = array('d', [9.48, 2.08, 4.29])"
   ]
  },
  {
   "cell_type": "code",
   "execution_count": 2,
   "outputs": [
    {
     "data": {
      "text/plain": "array.array"
     },
     "execution_count": 2,
     "metadata": {},
     "output_type": "execute_result"
    }
   ],
   "source": [
    "type(ea)"
   ],
   "metadata": {
    "collapsed": false,
    "ExecuteTime": {
     "end_time": "2023-10-28T18:23:38.269595200Z",
     "start_time": "2023-10-28T18:23:38.234563400Z"
    }
   },
   "id": "5ac9872f7a48dc11"
  },
  {
   "cell_type": "code",
   "execution_count": 2,
   "outputs": [
    {
     "data": {
      "text/plain": "True"
     },
     "execution_count": 2,
     "metadata": {},
     "output_type": "execute_result"
    }
   ],
   "source": [
    "a = (10, 'alpha', [1, 2])\n",
    "b = (10, 'alpha', [1, 2])\n",
    "a == b"
   ],
   "metadata": {
    "collapsed": false,
    "ExecuteTime": {
     "end_time": "2023-10-29T08:48:16.612440800Z",
     "start_time": "2023-10-29T08:48:16.595425Z"
    }
   },
   "id": "32faa53a191f24a7"
  },
  {
   "cell_type": "code",
   "execution_count": 3,
   "outputs": [
    {
     "data": {
      "text/plain": "False"
     },
     "execution_count": 3,
     "metadata": {},
     "output_type": "execute_result"
    }
   ],
   "source": [
    "b[-1].append(99)\n",
    "a == b"
   ],
   "metadata": {
    "collapsed": false,
    "ExecuteTime": {
     "end_time": "2023-10-29T08:48:34.310328500Z",
     "start_time": "2023-10-29T08:48:34.291311200Z"
    }
   },
   "id": "e45dfa0f5f308803"
  },
  {
   "cell_type": "code",
   "execution_count": 4,
   "outputs": [
    {
     "data": {
      "text/plain": "(10, 'alpha', [1, 2, 99])"
     },
     "execution_count": 4,
     "metadata": {},
     "output_type": "execute_result"
    }
   ],
   "source": [
    "b"
   ],
   "metadata": {
    "collapsed": false,
    "ExecuteTime": {
     "end_time": "2023-10-29T08:48:35.517828500Z",
     "start_time": "2023-10-29T08:48:35.506818200Z"
    }
   },
   "id": "8d58eed3bb871ddc"
  },
  {
   "cell_type": "code",
   "execution_count": 6,
   "outputs": [
    {
     "data": {
      "text/plain": "True"
     },
     "execution_count": 6,
     "metadata": {},
     "output_type": "execute_result"
    }
   ],
   "source": [
    "def fixed(o):\n",
    "    try:\n",
    "        hash(o)\n",
    "    except TypeError:\n",
    "        return False\n",
    "    return True\n",
    "\n",
    "\n",
    "tf = (10, 'alpha', (1, 2))\n",
    "tm = (10, 'alpha', [1, 2])\n",
    "\n",
    "fixed(tf)"
   ],
   "metadata": {
    "collapsed": false,
    "ExecuteTime": {
     "end_time": "2023-10-29T08:50:18.597239800Z",
     "start_time": "2023-10-29T08:50:18.583227500Z"
    }
   },
   "id": "e628399515e8e434"
  },
  {
   "cell_type": "code",
   "execution_count": 7,
   "outputs": [
    {
     "data": {
      "text/plain": "False"
     },
     "execution_count": 7,
     "metadata": {},
     "output_type": "execute_result"
    }
   ],
   "source": [
    "fixed(tm)"
   ],
   "metadata": {
    "collapsed": false,
    "ExecuteTime": {
     "end_time": "2023-10-29T08:50:21.873020900Z",
     "start_time": "2023-10-29T08:50:21.855004800Z"
    }
   },
   "id": "28b685fe41df7f7e"
  },
  {
   "cell_type": "code",
   "execution_count": 8,
   "outputs": [
    {
     "data": {
      "text/plain": "33.9435"
     },
     "execution_count": 8,
     "metadata": {},
     "output_type": "execute_result"
    }
   ],
   "source": [
    "lax_coordinates = (33.9435, -118.408056)\n",
    "latitude, longitude = lax_coordinates  #拆包\n",
    "latitude"
   ],
   "metadata": {
    "collapsed": false,
    "ExecuteTime": {
     "end_time": "2023-10-29T09:03:05.737055300Z",
     "start_time": "2023-10-29T09:03:05.670995300Z"
    }
   },
   "id": "afb26230f64f1864"
  },
  {
   "cell_type": "code",
   "execution_count": 9,
   "outputs": [
    {
     "data": {
      "text/plain": "-118.408056"
     },
     "execution_count": 9,
     "metadata": {},
     "output_type": "execute_result"
    }
   ],
   "source": [
    "longitude"
   ],
   "metadata": {
    "collapsed": false,
    "ExecuteTime": {
     "end_time": "2023-10-29T09:03:12.510931200Z",
     "start_time": "2023-10-29T09:03:12.483906500Z"
    }
   },
   "id": "2fea87a957ce8a71"
  },
  {
   "cell_type": "code",
   "execution_count": 10,
   "outputs": [
    {
     "data": {
      "text/plain": "(2, 4)"
     },
     "execution_count": 10,
     "metadata": {},
     "output_type": "execute_result"
    }
   ],
   "source": [
    "divmod(20, 8)"
   ],
   "metadata": {
    "collapsed": false,
    "ExecuteTime": {
     "end_time": "2023-10-29T09:04:43.940922300Z",
     "start_time": "2023-10-29T09:04:43.918902400Z"
    }
   },
   "id": "f065acb94c11995e"
  },
  {
   "cell_type": "code",
   "execution_count": 11,
   "outputs": [
    {
     "data": {
      "text/plain": "(2, 4)"
     },
     "execution_count": 11,
     "metadata": {},
     "output_type": "execute_result"
    }
   ],
   "source": [
    "t = (20, 8)\n",
    "divmod(*t)"
   ],
   "metadata": {
    "collapsed": false,
    "ExecuteTime": {
     "end_time": "2023-10-29T09:04:50.713133500Z",
     "start_time": "2023-10-29T09:04:50.701122Z"
    }
   },
   "id": "1d8cda2111d33530"
  },
  {
   "cell_type": "code",
   "execution_count": 13,
   "outputs": [
    {
     "data": {
      "text/plain": "(2, 4)"
     },
     "execution_count": 13,
     "metadata": {},
     "output_type": "execute_result"
    }
   ],
   "source": [
    "quotient, remainder = divmod(*t)\n",
    "quotient, remainder"
   ],
   "metadata": {
    "collapsed": false,
    "ExecuteTime": {
     "end_time": "2023-10-29T09:05:19.207594900Z",
     "start_time": "2023-10-29T09:05:19.186575100Z"
    }
   },
   "id": "eea0007a0f005851"
  },
  {
   "cell_type": "code",
   "execution_count": 15,
   "outputs": [
    {
     "data": {
      "text/plain": "(0, 1, [2, 3, 4])"
     },
     "execution_count": 15,
     "metadata": {},
     "output_type": "execute_result"
    }
   ],
   "source": [
    "a, b, *rest = range(5)\n",
    "a, b, rest"
   ],
   "metadata": {
    "collapsed": false,
    "ExecuteTime": {
     "end_time": "2023-10-29T09:06:54.866747300Z",
     "start_time": "2023-10-29T09:06:54.857739500Z"
    }
   },
   "id": "5f1cddc008485347"
  },
  {
   "cell_type": "code",
   "execution_count": 16,
   "outputs": [
    {
     "data": {
      "text/plain": "(0, 1, [2])"
     },
     "execution_count": 16,
     "metadata": {},
     "output_type": "execute_result"
    }
   ],
   "source": [
    "a, b, *rest = range(3)\n",
    "a, b, rest"
   ],
   "metadata": {
    "collapsed": false,
    "ExecuteTime": {
     "end_time": "2023-10-29T09:06:58.881608900Z",
     "start_time": "2023-10-29T09:06:58.864063500Z"
    }
   },
   "id": "e1eef5e6d6e9d1b1"
  },
  {
   "cell_type": "code",
   "execution_count": 17,
   "outputs": [
    {
     "data": {
      "text/plain": "(0, 1, [])"
     },
     "execution_count": 17,
     "metadata": {},
     "output_type": "execute_result"
    }
   ],
   "source": [
    "a, b, *rest = range(2)\n",
    "a, b, rest"
   ],
   "metadata": {
    "collapsed": false,
    "ExecuteTime": {
     "end_time": "2023-10-29T09:07:01.847777Z",
     "start_time": "2023-10-29T09:07:01.828759300Z"
    }
   },
   "id": "91a9c16ca24d7f9f"
  },
  {
   "cell_type": "code",
   "execution_count": 18,
   "outputs": [
    {
     "data": {
      "text/plain": "(0, [1, 2], 3, 4)"
     },
     "execution_count": 18,
     "metadata": {},
     "output_type": "execute_result"
    }
   ],
   "source": [
    "a, *body, c, d = range(5)\n",
    "a, body, c, d"
   ],
   "metadata": {
    "collapsed": false,
    "ExecuteTime": {
     "end_time": "2023-10-29T09:07:38.832947200Z",
     "start_time": "2023-10-29T09:07:38.816932700Z"
    }
   },
   "id": "ee1da00356f51a50"
  },
  {
   "cell_type": "code",
   "execution_count": 19,
   "outputs": [
    {
     "data": {
      "text/plain": "([0, 1], 2, 3, 4)"
     },
     "execution_count": 19,
     "metadata": {},
     "output_type": "execute_result"
    }
   ],
   "source": [
    "*head, b, c, d = range(5)\n",
    "head, b, c, d"
   ],
   "metadata": {
    "collapsed": false,
    "ExecuteTime": {
     "end_time": "2023-10-29T09:07:55.133790900Z",
     "start_time": "2023-10-29T09:07:55.112772500Z"
    }
   },
   "id": "e207c58b35825cfa"
  },
  {
   "cell_type": "code",
   "execution_count": 20,
   "outputs": [
    {
     "data": {
      "text/plain": "(1, 2, 3, 4, (5, 6))"
     },
     "execution_count": 20,
     "metadata": {},
     "output_type": "execute_result"
    }
   ],
   "source": [
    "def func(a, b, c, d, *rest):\n",
    "    return a, b, c, d, rest\n",
    "\n",
    "\n",
    "func(*[1, 2], 3, *range(4, 7))"
   ],
   "metadata": {
    "collapsed": false,
    "ExecuteTime": {
     "end_time": "2023-10-29T09:09:41.487823700Z",
     "start_time": "2023-10-29T09:09:41.435776900Z"
    }
   },
   "id": "e9f86781781d7a1"
  },
  {
   "cell_type": "code",
   "execution_count": 21,
   "outputs": [
    {
     "data": {
      "text/plain": "(0, 1, 2, 3, 4)"
     },
     "execution_count": 21,
     "metadata": {},
     "output_type": "execute_result"
    }
   ],
   "source": [
    "*range(4), 4"
   ],
   "metadata": {
    "collapsed": false,
    "ExecuteTime": {
     "end_time": "2023-10-29T09:11:21.482665300Z",
     "start_time": "2023-10-29T09:11:21.461646200Z"
    }
   },
   "id": "9531d37c69b48dc3"
  },
  {
   "cell_type": "code",
   "execution_count": 22,
   "outputs": [
    {
     "data": {
      "text/plain": "[0, 1, 2, 3, 4]"
     },
     "execution_count": 22,
     "metadata": {},
     "output_type": "execute_result"
    }
   ],
   "source": [
    "[*range(4), 4]"
   ],
   "metadata": {
    "collapsed": false,
    "ExecuteTime": {
     "end_time": "2023-10-29T09:11:26.201331700Z",
     "start_time": "2023-10-29T09:11:26.193324400Z"
    }
   },
   "id": "735e89be7474cd81"
  },
  {
   "cell_type": "code",
   "execution_count": 23,
   "outputs": [
    {
     "data": {
      "text/plain": "{0, 1, 2, 3, 4, 5, 6, 7}"
     },
     "execution_count": 23,
     "metadata": {},
     "output_type": "execute_result"
    }
   ],
   "source": [
    "{*range(4), 4, *(5, 6, 7)}"
   ],
   "metadata": {
    "collapsed": false,
    "ExecuteTime": {
     "end_time": "2023-10-29T09:11:36.877189800Z",
     "start_time": "2023-10-29T09:11:36.841156600Z"
    }
   },
   "id": "2e3ec5d0971b3427"
  },
  {
   "cell_type": "code",
   "execution_count": 24,
   "outputs": [
    {
     "data": {
      "text/plain": "set"
     },
     "execution_count": 24,
     "metadata": {},
     "output_type": "execute_result"
    }
   ],
   "source": [
    "type({*range(4), 4, *(5, 6, 7)})"
   ],
   "metadata": {
    "collapsed": false,
    "ExecuteTime": {
     "end_time": "2023-10-29T09:11:43.477620100Z",
     "start_time": "2023-10-29T09:11:43.459602900Z"
    }
   },
   "id": "6cd08d5cb3cd5edc"
  },
  {
   "cell_type": "code",
   "execution_count": 63,
   "outputs": [],
   "source": [
    "class Point:\n",
    "    __match_args__ = ('x', 'y')\n",
    "\n",
    "    def __init__(self, x=0, y=0):\n",
    "        self.x = x\n",
    "        self.y = y\n",
    "\n",
    "    def __repr__(self):\n",
    "        return f'Point({self.x!r}, {self.y!r})'\n"
   ],
   "metadata": {
    "collapsed": false,
    "ExecuteTime": {
     "end_time": "2023-10-29T13:10:06.723088800Z",
     "start_time": "2023-10-29T13:10:06.715582900Z"
    }
   },
   "id": "986e980976ef89c0"
  },
  {
   "cell_type": "code",
   "execution_count": 64,
   "outputs": [
    {
     "name": "stdout",
     "output_type": "stream",
     "text": [
      "Point(0, 5)\n",
      "Two points on the Y axis at 4, 5 are in the list.\n"
     ]
    }
   ],
   "source": [
    "# points = [Point(0, 4)]\n",
    "points = [Point(0, 4), Point(0, 5)]\n",
    "\n",
    "match points:\n",
    "    case []:\n",
    "        print(\"No points in the list.\")\n",
    "    case [Point(0, 0)]:\n",
    "        print(\"The origin is the only point in the list.\")\n",
    "    case [Point(x, y)]:\n",
    "        print(f\"A single point {x}, {y} is in the list.\")\n",
    "    case [Point(0, y1), Point(0, y2) as p2]:\n",
    "        print(p2)\n",
    "        print(f\"Two points on the Y axis at {y1}, {y2} are in the list.\")\n",
    "    case _:\n",
    "        print(\"Something else is found in the list.\")"
   ],
   "metadata": {
    "collapsed": false,
    "ExecuteTime": {
     "end_time": "2023-10-29T13:10:06.909749Z",
     "start_time": "2023-10-29T13:10:06.894736200Z"
    }
   },
   "id": "c1bddbccbf3931e1"
  },
  {
   "cell_type": "code",
   "execution_count": null,
   "outputs": [],
   "source": [
    "phone = '12345678'\n",
    "\n",
    "match tuple(phone):\n",
    "    case ['1', *rest]:\n",
    "        '北美洲'\n",
    "    case ['2', *rest]:\n",
    "        '非洲'\n",
    "    case ['3' | '4', *rest]:\n",
    "        '欧洲'"
   ],
   "metadata": {
    "collapsed": false
   },
   "id": "5281d25e3591f3c8"
  },
  {
   "cell_type": "code",
   "execution_count": 65,
   "outputs": [
    {
     "data": {
      "text/plain": "'bye'"
     },
     "execution_count": 65,
     "metadata": {},
     "output_type": "execute_result"
    }
   ],
   "source": [
    "s = 'bicycle'\n",
    "s[::3]"
   ],
   "metadata": {
    "collapsed": false,
    "ExecuteTime": {
     "end_time": "2023-10-29T13:56:03.447095700Z",
     "start_time": "2023-10-29T13:56:03.405056600Z"
    }
   },
   "id": "1e308e9457ce5bc8"
  },
  {
   "cell_type": "code",
   "execution_count": 66,
   "outputs": [
    {
     "data": {
      "text/plain": "'elcycib'"
     },
     "execution_count": 66,
     "metadata": {},
     "output_type": "execute_result"
    }
   ],
   "source": [
    "s[::-1]"
   ],
   "metadata": {
    "collapsed": false,
    "ExecuteTime": {
     "end_time": "2023-10-29T13:56:05.177769100Z",
     "start_time": "2023-10-29T13:56:05.135730400Z"
    }
   },
   "id": "4b4182916002a1a"
  },
  {
   "cell_type": "code",
   "execution_count": 67,
   "outputs": [
    {
     "data": {
      "text/plain": "'eccb'"
     },
     "execution_count": 67,
     "metadata": {},
     "output_type": "execute_result"
    }
   ],
   "source": [
    "s[::-2]"
   ],
   "metadata": {
    "collapsed": false,
    "ExecuteTime": {
     "end_time": "2023-10-29T13:56:07.479196800Z",
     "start_time": "2023-10-29T13:56:07.449167Z"
    }
   },
   "id": "effcae98caa9e34"
  },
  {
   "cell_type": "code",
   "execution_count": 73,
   "outputs": [
    {
     "name": "stdout",
     "output_type": "stream",
     "text": [
      "    $17.50   Pimoroni PiBrella                 \n",
      "     $4.95   6mm Tactile Switch x20            \n",
      "    $28.00   Panavise Jr. - PV-201             \n",
      "    $34.95   PiTFT Mini Kit 320x240            \n",
      " \n"
     ]
    }
   ],
   "source": [],
   "metadata": {
    "collapsed": false,
    "ExecuteTime": {
     "end_time": "2023-10-29T14:00:33.340702500Z",
     "start_time": "2023-10-29T14:00:33.318682400Z"
    }
   },
   "id": "48b5c5336a54767f"
  },
  {
   "cell_type": "code",
   "execution_count": 80,
   "outputs": [
    {
     "data": {
      "text/plain": "[0, 1, 2, 3, 4, 5, 6, 7, 8, 9]"
     },
     "execution_count": 80,
     "metadata": {},
     "output_type": "execute_result"
    }
   ],
   "source": [
    "l = list(range(10))\n",
    "l"
   ],
   "metadata": {
    "collapsed": false,
    "ExecuteTime": {
     "end_time": "2023-10-29T14:17:20.323998400Z",
     "start_time": "2023-10-29T14:17:20.303980Z"
    }
   },
   "id": "5f589b7369dde36"
  },
  {
   "cell_type": "code",
   "execution_count": 81,
   "outputs": [
    {
     "data": {
      "text/plain": "[0, 1, 20, 30, 5, 6, 7, 8, 9]"
     },
     "execution_count": 81,
     "metadata": {},
     "output_type": "execute_result"
    }
   ],
   "source": [
    "l[2:5] = [20, 30]\n",
    "l"
   ],
   "metadata": {
    "collapsed": false,
    "ExecuteTime": {
     "end_time": "2023-10-29T14:17:20.711349500Z",
     "start_time": "2023-10-29T14:17:20.700340600Z"
    }
   },
   "id": "3229e756dc94d093"
  },
  {
   "cell_type": "code",
   "execution_count": 82,
   "outputs": [
    {
     "data": {
      "text/plain": "[0, 1, 20, 30, 5, 8, 9]"
     },
     "execution_count": 82,
     "metadata": {},
     "output_type": "execute_result"
    }
   ],
   "source": [
    "del l[5:7]\n",
    "l"
   ],
   "metadata": {
    "collapsed": false,
    "ExecuteTime": {
     "end_time": "2023-10-29T14:17:21.026923900Z",
     "start_time": "2023-10-29T14:17:21.011910100Z"
    }
   },
   "id": "9008a0b12c7e9c8"
  },
  {
   "cell_type": "code",
   "execution_count": 83,
   "outputs": [
    {
     "data": {
      "text/plain": "[0, 1, 20, 11, 5, 22, 9]"
     },
     "execution_count": 83,
     "metadata": {},
     "output_type": "execute_result"
    }
   ],
   "source": [
    "l[3::2] = [11, 22]\n",
    "l"
   ],
   "metadata": {
    "collapsed": false,
    "ExecuteTime": {
     "end_time": "2023-10-29T14:17:21.523374300Z",
     "start_time": "2023-10-29T14:17:21.508361100Z"
    }
   },
   "id": "6515f550a6dfa1d7"
  },
  {
   "cell_type": "code",
   "execution_count": 86,
   "outputs": [
    {
     "ename": "TypeError",
     "evalue": "can only assign an iterable",
     "output_type": "error",
     "traceback": [
      "\u001B[1;31m---------------------------------------------------------------------------\u001B[0m",
      "\u001B[1;31mTypeError\u001B[0m                                 Traceback (most recent call last)",
      "Cell \u001B[1;32mIn[86], line 1\u001B[0m\n\u001B[1;32m----> 1\u001B[0m \u001B[43ml\u001B[49m\u001B[43m[\u001B[49m\u001B[38;5;241;43m2\u001B[39;49m\u001B[43m:\u001B[49m\u001B[38;5;241;43m5\u001B[39;49m\u001B[43m]\u001B[49m \u001B[38;5;241m=\u001B[39m \u001B[38;5;241m100\u001B[39m \u001B[38;5;66;03m# 赋值目标是一个切片，则右边必须是一个可迭代对象，即使只有一项\u001B[39;00m\n\u001B[0;32m      2\u001B[0m l\n",
      "\u001B[1;31mTypeError\u001B[0m: can only assign an iterable"
     ]
    }
   ],
   "source": [
    "l[2:5] = 100  # 赋值目标是一个切片，则右边必须是一个可迭代对象，即使只有一项\n",
    "l"
   ],
   "metadata": {
    "collapsed": false,
    "ExecuteTime": {
     "end_time": "2023-10-29T14:20:22.606574Z",
     "start_time": "2023-10-29T14:20:22.553526200Z"
    }
   },
   "id": "e60c89c418d7527b"
  },
  {
   "cell_type": "code",
   "execution_count": 85,
   "outputs": [
    {
     "data": {
      "text/plain": "[0, 1, 100, 22, 9]"
     },
     "execution_count": 85,
     "metadata": {},
     "output_type": "execute_result"
    }
   ],
   "source": [
    "l[2:5] = [100]\n",
    "l"
   ],
   "metadata": {
    "collapsed": false,
    "ExecuteTime": {
     "end_time": "2023-10-29T14:17:40.180774300Z",
     "start_time": "2023-10-29T14:17:40.160756100Z"
    }
   },
   "id": "51b0b4bbac66abf7"
  },
  {
   "cell_type": "code",
   "execution_count": 1,
   "outputs": [
    {
     "data": {
      "text/plain": "2177303305984"
     },
     "execution_count": 1,
     "metadata": {},
     "output_type": "execute_result"
    }
   ],
   "source": [
    "l = [1, 2, 3]\n",
    "id(l)"
   ],
   "metadata": {
    "collapsed": false,
    "ExecuteTime": {
     "end_time": "2023-10-30T14:31:15.114516900Z",
     "start_time": "2023-10-30T14:31:15.101504900Z"
    }
   },
   "id": "d99ebd8a13c5e22a"
  },
  {
   "cell_type": "code",
   "execution_count": 2,
   "outputs": [
    {
     "data": {
      "text/plain": "2177303305984"
     },
     "execution_count": 2,
     "metadata": {},
     "output_type": "execute_result"
    }
   ],
   "source": [
    "l *= 2\n",
    "id(l)"
   ],
   "metadata": {
    "collapsed": false,
    "ExecuteTime": {
     "end_time": "2023-10-30T14:31:20.988663700Z",
     "start_time": "2023-10-30T14:31:20.961639300Z"
    }
   },
   "id": "19e216ae40170eec"
  },
  {
   "cell_type": "code",
   "execution_count": 3,
   "outputs": [
    {
     "data": {
      "text/plain": "2177303286080"
     },
     "execution_count": 3,
     "metadata": {},
     "output_type": "execute_result"
    }
   ],
   "source": [
    "t = (1, 2, 3)\n",
    "id(t)"
   ],
   "metadata": {
    "collapsed": false,
    "ExecuteTime": {
     "end_time": "2023-10-30T14:31:32.419203600Z",
     "start_time": "2023-10-30T14:31:32.378730200Z"
    }
   },
   "id": "d789802b3b32d8de"
  },
  {
   "cell_type": "code",
   "execution_count": 4,
   "outputs": [
    {
     "data": {
      "text/plain": "2177307601760"
     },
     "execution_count": 4,
     "metadata": {},
     "output_type": "execute_result"
    }
   ],
   "source": [
    "t *= 2      # 创建了一个新元组\n",
    "id(t)       "
   ],
   "metadata": {
    "collapsed": false,
    "ExecuteTime": {
     "end_time": "2023-10-30T14:31:39.400506100Z",
     "start_time": "2023-10-30T14:31:39.374481800Z"
    }
   },
   "id": "57901ada02d690f5"
  },
  {
   "cell_type": "code",
   "execution_count": 5,
   "outputs": [
    {
     "data": {
      "text/plain": "['apple', 'banana', 'grape', 'raspberry']"
     },
     "execution_count": 5,
     "metadata": {},
     "output_type": "execute_result"
    }
   ],
   "source": [
    "fruits = ['grape', 'raspberry', 'apple', 'banana']\n",
    "sorted(fruits)"
   ],
   "metadata": {
    "collapsed": false,
    "ExecuteTime": {
     "end_time": "2023-10-30T14:52:02.933692700Z",
     "start_time": "2023-10-30T14:52:02.889652Z"
    }
   },
   "id": "5b15e9e9fa3d5e66"
  },
  {
   "cell_type": "code",
   "execution_count": 6,
   "outputs": [
    {
     "data": {
      "text/plain": "['grape', 'raspberry', 'apple', 'banana']"
     },
     "execution_count": 6,
     "metadata": {},
     "output_type": "execute_result"
    }
   ],
   "source": [
    "fruits"
   ],
   "metadata": {
    "collapsed": false,
    "ExecuteTime": {
     "end_time": "2023-10-30T14:52:09.868501500Z",
     "start_time": "2023-10-30T14:52:09.838959500Z"
    }
   },
   "id": "406f39410245d29a"
  },
  {
   "cell_type": "code",
   "execution_count": 7,
   "outputs": [
    {
     "data": {
      "text/plain": "['raspberry', 'grape', 'banana', 'apple']"
     },
     "execution_count": 7,
     "metadata": {},
     "output_type": "execute_result"
    }
   ],
   "source": [
    "sorted(fruits, reverse=True)"
   ],
   "metadata": {
    "collapsed": false,
    "ExecuteTime": {
     "end_time": "2023-10-30T14:52:18.528930900Z",
     "start_time": "2023-10-30T14:52:18.483889500Z"
    }
   },
   "id": "d3f2553d0c94b0e8"
  },
  {
   "cell_type": "code",
   "execution_count": 8,
   "outputs": [
    {
     "data": {
      "text/plain": "['grape', 'apple', 'banana', 'raspberry']"
     },
     "execution_count": 8,
     "metadata": {},
     "output_type": "execute_result"
    }
   ],
   "source": [
    "sorted(fruits, key=len)"
   ],
   "metadata": {
    "collapsed": false,
    "ExecuteTime": {
     "end_time": "2023-10-30T14:52:27.209427100Z",
     "start_time": "2023-10-30T14:52:27.183404100Z"
    }
   },
   "id": "5b90978e839a13e1"
  },
  {
   "cell_type": "code",
   "execution_count": 9,
   "outputs": [
    {
     "data": {
      "text/plain": "['raspberry', 'banana', 'grape', 'apple']"
     },
     "execution_count": 9,
     "metadata": {},
     "output_type": "execute_result"
    }
   ],
   "source": [
    "sorted(fruits, key=len, reverse=True)"
   ],
   "metadata": {
    "collapsed": false,
    "ExecuteTime": {
     "end_time": "2023-10-30T14:52:38.771248Z",
     "start_time": "2023-10-30T14:52:38.728208900Z"
    }
   },
   "id": "b649f3c111663ee6"
  },
  {
   "cell_type": "code",
   "execution_count": 10,
   "outputs": [
    {
     "data": {
      "text/plain": "['grape', 'raspberry', 'apple', 'banana']"
     },
     "execution_count": 10,
     "metadata": {},
     "output_type": "execute_result"
    }
   ],
   "source": [
    "fruits"
   ],
   "metadata": {
    "collapsed": false,
    "ExecuteTime": {
     "end_time": "2023-10-30T14:52:42.702075500Z",
     "start_time": "2023-10-30T14:52:42.574828700Z"
    }
   },
   "id": "be452a7d3a97cd55"
  },
  {
   "cell_type": "code",
   "execution_count": 11,
   "outputs": [],
   "source": [
    "fruits.sort()"
   ],
   "metadata": {
    "collapsed": false,
    "ExecuteTime": {
     "end_time": "2023-10-30T14:52:46.349227400Z",
     "start_time": "2023-10-30T14:52:46.324632100Z"
    }
   },
   "id": "887ca111cc09954b"
  },
  {
   "cell_type": "code",
   "execution_count": 12,
   "outputs": [
    {
     "data": {
      "text/plain": "['apple', 'banana', 'grape', 'raspberry']"
     },
     "execution_count": 12,
     "metadata": {},
     "output_type": "execute_result"
    }
   ],
   "source": [
    "fruits"
   ],
   "metadata": {
    "collapsed": false,
    "ExecuteTime": {
     "end_time": "2023-10-30T14:52:48.280632900Z",
     "start_time": "2023-10-30T14:52:48.255610900Z"
    }
   },
   "id": "a3c54b375a4c8c03"
  },
  {
   "cell_type": "code",
   "execution_count": null,
   "outputs": [],
   "source": [],
   "metadata": {
    "collapsed": false
   },
   "id": "502f76e3ff480f3f"
  }
 ],
 "metadata": {
  "kernelspec": {
   "display_name": "Python 3",
   "language": "python",
   "name": "python3"
  },
  "language_info": {
   "codemirror_mode": {
    "name": "ipython",
    "version": 2
   },
   "file_extension": ".py",
   "mimetype": "text/x-python",
   "name": "python",
   "nbconvert_exporter": "python",
   "pygments_lexer": "ipython2",
   "version": "2.7.6"
  }
 },
 "nbformat": 4,
 "nbformat_minor": 5
}
