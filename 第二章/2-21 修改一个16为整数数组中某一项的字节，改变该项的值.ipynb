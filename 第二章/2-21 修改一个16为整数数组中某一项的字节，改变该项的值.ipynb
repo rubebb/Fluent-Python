{
 "cells": [
  {
   "cell_type": "markdown",
   "source": [
    "# 修改一个16为整数数组中某一项的字节，改变该项的值"
   ],
   "metadata": {
    "collapsed": false
   },
   "id": "20fcbac0e6d83545"
  },
  {
   "cell_type": "code",
   "execution_count": 1,
   "id": "initial_id",
   "metadata": {
    "collapsed": true,
    "ExecuteTime": {
     "end_time": "2023-10-30T15:39:37.687853500Z",
     "start_time": "2023-10-30T15:39:37.675341600Z"
    }
   },
   "outputs": [
    {
     "data": {
      "text/plain": "5"
     },
     "execution_count": 1,
     "metadata": {},
     "output_type": "execute_result"
    }
   ],
   "source": [
    "import array\n",
    "\n",
    "numbers = array.array('h', [-2, -1, 0, 1, 2])\n",
    "memv = memoryview(numbers)      # 根据一个包含5个16位带符号整数的数组（类型代码为h），创建一个memoryview 对象\n",
    "len(memv)"
   ]
  },
  {
   "cell_type": "code",
   "execution_count": 2,
   "outputs": [
    {
     "data": {
      "text/plain": "-2"
     },
     "execution_count": 2,
     "metadata": {},
     "output_type": "execute_result"
    }
   ],
   "source": [
    "memv[0] # memv 的5项 和原数组一样"
   ],
   "metadata": {
    "collapsed": false,
    "ExecuteTime": {
     "end_time": "2023-10-30T15:39:40.206871900Z",
     "start_time": "2023-10-30T15:39:40.185853200Z"
    }
   },
   "id": "2d5883a129c20e4c"
  },
  {
   "cell_type": "code",
   "execution_count": 4,
   "outputs": [
    {
     "data": {
      "text/plain": "[254, 255, 255, 255, 0, 0, 1, 0, 2, 0]"
     },
     "execution_count": 4,
     "metadata": {},
     "output_type": "execute_result"
    }
   ],
   "source": [
    "memv_oct = memv.cast('B')   # 把memv中的元素转换为字节（类型代码为B），创建memv_oct对象\n",
    "memv_oct.tolist()  "
   ],
   "metadata": {
    "collapsed": false,
    "ExecuteTime": {
     "end_time": "2023-10-30T15:40:10.433815100Z",
     "start_time": "2023-10-30T15:40:10.422805700Z"
    }
   },
   "id": "605f975414a65ac"
  },
  {
   "cell_type": "code",
   "execution_count": 6,
   "outputs": [
    {
     "data": {
      "text/plain": "array('h', [-2, -1, 1024, 1, 2])"
     },
     "execution_count": 6,
     "metadata": {},
     "output_type": "execute_result"
    }
   ],
   "source": [
    "memv_oct[5] = 4  # 把偏移位5上的字节设为4\n",
    "numbers         # 注意numbers的变化，对于一个2字节无符号整数，最高有效字节为4，对应的十进制值为1024"
   ],
   "metadata": {
    "collapsed": false,
    "ExecuteTime": {
     "end_time": "2023-10-30T15:40:27.127749700Z",
     "start_time": "2023-10-30T15:40:27.098225100Z"
    }
   },
   "id": "1606eea857887c6b"
  },
  {
   "cell_type": "code",
   "execution_count": null,
   "outputs": [],
   "source": [],
   "metadata": {
    "collapsed": false
   },
   "id": "2721997822196899"
  }
 ],
 "metadata": {
  "kernelspec": {
   "display_name": "Python 3",
   "language": "python",
   "name": "python3"
  },
  "language_info": {
   "codemirror_mode": {
    "name": "ipython",
    "version": 2
   },
   "file_extension": ".py",
   "mimetype": "text/x-python",
   "name": "python",
   "nbconvert_exporter": "python",
   "pygments_lexer": "ipython2",
   "version": "2.7.6"
  }
 },
 "nbformat": 4,
 "nbformat_minor": 5
}
