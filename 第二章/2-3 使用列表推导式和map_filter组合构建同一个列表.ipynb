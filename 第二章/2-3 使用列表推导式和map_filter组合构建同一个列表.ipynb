{
 "cells": [
  {
   "cell_type": "markdown",
   "source": [
    "# 使用列表推导式和map/filter组合构建同一个列表"
   ],
   "metadata": {
    "collapsed": false
   },
   "id": "4d26a2f809cff7c7"
  },
  {
   "cell_type": "code",
   "execution_count": null,
   "outputs": [],
   "source": [
    "symbols = '$¢£¥€¤'\n",
    "beyond_ascii = [ord(s) for s in symbols if ord(s) > 127]\n",
    "print(beyond_ascii)\n",
    "\n",
    "beyond_ascii = list(filter(lambda  c: c>127, map(ord, symbols)))\n",
    "print(beyond_ascii)"
   ],
   "metadata": {
    "collapsed": false
   },
   "id": "fc50f468b96a63ac"
  }
 ],
 "metadata": {
  "kernelspec": {
   "display_name": "Python 3",
   "language": "python",
   "name": "python3"
  },
  "language_info": {
   "codemirror_mode": {
    "name": "ipython",
    "version": 2
   },
   "file_extension": ".py",
   "mimetype": "text/x-python",
   "name": "python",
   "nbconvert_exporter": "python",
   "pygments_lexer": "ipython2",
   "version": "2.7.6"
  }
 },
 "nbformat": 4,
 "nbformat_minor": 5
}
