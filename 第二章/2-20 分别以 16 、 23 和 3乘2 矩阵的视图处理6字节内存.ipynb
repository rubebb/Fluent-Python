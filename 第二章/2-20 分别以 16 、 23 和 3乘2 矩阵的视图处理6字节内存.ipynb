{
 "cells": [
  {
   "cell_type": "markdown",
   "source": [
    "# 分别以 1*6 、 2*3 和 3*2 矩阵的视图处理6字节内存"
   ],
   "metadata": {
    "collapsed": false
   },
   "id": "b7d4a3e197c11929"
  },
  {
   "cell_type": "code",
   "execution_count": 8,
   "id": "initial_id",
   "metadata": {
    "collapsed": true,
    "ExecuteTime": {
     "end_time": "2023-10-30T15:35:24.330889400Z",
     "start_time": "2023-10-30T15:35:24.315376400Z"
    }
   },
   "outputs": [
    {
     "data": {
      "text/plain": "[0, 1, 2, 3, 4, 5]"
     },
     "execution_count": 8,
     "metadata": {},
     "output_type": "execute_result"
    }
   ],
   "source": [
    "from array import array\n",
    "\n",
    "octets = array('B', range(6))           # 创建一个6字节数据（类型代码为'B'）\n",
    "m1 = memoryview(octets)                 # 根据这个数组创建一个 memoryview 对象，然后导出为一个列表\n",
    "m1.tolist()"
   ]
  },
  {
   "cell_type": "code",
   "execution_count": 9,
   "outputs": [
    {
     "data": {
      "text/plain": "[[0, 1, 2], [3, 4, 5]]"
     },
     "execution_count": 9,
     "metadata": {},
     "output_type": "execute_result"
    }
   ],
   "source": [
    "m2 = m1.cast('B', [2, 3])  # 根据前一个memoryview 对象 构建一个 新memoryview 对象，不过是2行3列\n",
    "m2.tolist()"
   ],
   "metadata": {
    "collapsed": false,
    "ExecuteTime": {
     "end_time": "2023-10-30T15:35:24.688144800Z",
     "start_time": "2023-10-30T15:35:24.679637300Z"
    }
   },
   "id": "72946b7c4801d9e9"
  },
  {
   "cell_type": "code",
   "execution_count": 10,
   "outputs": [
    {
     "data": {
      "text/plain": "[[0, 1], [2, 3], [4, 5]]"
     },
     "execution_count": 10,
     "metadata": {},
     "output_type": "execute_result"
    }
   ],
   "source": [
    "m3 = m1.cast('B', [3, 2])  # 再构建一个memoryview 对象，这一次是3行2列\n",
    "m3.tolist()"
   ],
   "metadata": {
    "collapsed": false,
    "ExecuteTime": {
     "end_time": "2023-10-30T15:35:24.906693900Z",
     "start_time": "2023-10-30T15:35:24.887176900Z"
    }
   },
   "id": "3fca3a272b46ade"
  },
  {
   "cell_type": "code",
   "execution_count": 11,
   "outputs": [
    {
     "data": {
      "text/plain": "array('B', [0, 1, 2, 33, 22, 5])"
     },
     "execution_count": 11,
     "metadata": {},
     "output_type": "execute_result"
    }
   ],
   "source": [
    "m2[1, 1] = 22   # 使用22覆盖m2中行1列1上的数据\n",
    "m3[1, 1] = 33   # 使用33覆盖m3中行1列1上的数据\n",
    "octets          # 显示原数组，证明octets 、 m1、 m2 和 m3 之间的内存是共享的"
   ],
   "metadata": {
    "collapsed": false,
    "ExecuteTime": {
     "end_time": "2023-10-30T15:35:25.318373400Z",
     "start_time": "2023-10-30T15:35:25.286351800Z"
    }
   },
   "id": "915c01788631044d"
  },
  {
   "cell_type": "code",
   "execution_count": 6,
   "outputs": [],
   "source": [],
   "metadata": {
    "collapsed": false,
    "ExecuteTime": {
     "end_time": "2023-10-30T15:32:50.000317900Z",
     "start_time": "2023-10-30T15:32:49.964287300Z"
    }
   },
   "id": "1f1abf33ab2002f7"
  },
  {
   "cell_type": "code",
   "execution_count": null,
   "outputs": [],
   "source": [],
   "metadata": {
    "collapsed": false
   },
   "id": "5547483560dfd242"
  }
 ],
 "metadata": {
  "kernelspec": {
   "display_name": "Python 3",
   "language": "python",
   "name": "python3"
  },
  "language_info": {
   "codemirror_mode": {
    "name": "ipython",
    "version": 2
   },
   "file_extension": ".py",
   "mimetype": "text/x-python",
   "name": "python",
   "nbconvert_exporter": "python",
   "pygments_lexer": "ipython2",
   "version": "2.7.6"
  }
 },
 "nbformat": 4,
 "nbformat_minor": 5
}
