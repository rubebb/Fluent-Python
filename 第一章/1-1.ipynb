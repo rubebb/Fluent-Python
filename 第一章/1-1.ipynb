{
 "cells": [
  {
   "cell_type": "code",
   "execution_count": 2,
   "id": "initial_id",
   "metadata": {
    "collapsed": true,
    "ExecuteTime": {
     "end_time": "2023-10-26T16:34:18.111326400Z",
     "start_time": "2023-10-26T16:34:18.093309400Z"
    }
   },
   "outputs": [],
   "source": [
    "import collections "
   ]
  },
  {
   "cell_type": "code",
   "execution_count": 3,
   "outputs": [],
   "source": [
    "Card = collections.namedtuple('Card', ['rank', 'suit'])\n",
    "\n",
    "\n",
    "class FrenchDeck:\n",
    "    ranks = [str(n) for n in range(2, 11)] + list('JQKA')\n",
    "    suits = 'spades diamonds clubs hearts'.split()\n",
    "\n",
    "    def __init__(self):\n",
    "        self._cards = [Card(rank, suit) for suit in self.suits for rank in self.ranks]\n",
    "    \n",
    "    # __len__是Python中的一个特殊方法，用于返回对象的长度或大小。这个方法在自定义类中实现时，可以通过内置函数len()来获取对象的长度。 以下是一个示例，展示了如何在自定义类中实现__len__方法：\n",
    "    \n",
    "    def __len__(self):      # len => __len__\n",
    "        return len(self._cards)\n",
    "    \n",
    "    # __getitem__是Python中的一个特殊方法（也称为魔术方法或魔术函数），用于实现对象的索引访问操作。 在Python中，如果一个类定义了__getitem__方法，那么该类的对象可以像序列（如列表、字符串等）一样使用索引运算符[]来访问其元素。 下面是一个示例，展示了如何在自定义类中使用__getitem__方法：\n",
    "\n",
    "    def __getitem__(self, position): # [x] => __getitem__(x) \n",
    "        return self._cards[position]"
   ],
   "metadata": {
    "collapsed": false,
    "ExecuteTime": {
     "end_time": "2023-10-26T16:34:20.018572300Z",
     "start_time": "2023-10-26T16:34:20.012566300Z"
    }
   },
   "id": "5bbeda3a00279466"
  },
  {
   "cell_type": "code",
   "execution_count": 4,
   "outputs": [
    {
     "data": {
      "text/plain": "Card(rank='7', suit='diamonds')"
     },
     "execution_count": 4,
     "metadata": {},
     "output_type": "execute_result"
    }
   ],
   "source": [
    "beer_card = Card('7', 'diamonds')\n",
    "beer_card"
   ],
   "metadata": {
    "collapsed": false,
    "ExecuteTime": {
     "end_time": "2023-10-26T16:34:41.500502Z",
     "start_time": "2023-10-26T16:34:41.476797700Z"
    }
   },
   "id": "c71a602925f696e"
  },
  {
   "cell_type": "code",
   "execution_count": 5,
   "outputs": [
    {
     "data": {
      "text/plain": "52"
     },
     "execution_count": 5,
     "metadata": {},
     "output_type": "execute_result"
    }
   ],
   "source": [
    "deck = FrenchDeck()\n",
    "len(deck)"
   ],
   "metadata": {
    "collapsed": false,
    "ExecuteTime": {
     "end_time": "2023-10-26T16:34:51.340683100Z",
     "start_time": "2023-10-26T16:34:51.324668600Z"
    }
   },
   "id": "f3d72fd67eb503e1"
  },
  {
   "cell_type": "code",
   "execution_count": 6,
   "outputs": [
    {
     "data": {
      "text/plain": "Card(rank='2', suit='spades')"
     },
     "execution_count": 6,
     "metadata": {},
     "output_type": "execute_result"
    }
   ],
   "source": [
    "deck[0]"
   ],
   "metadata": {
    "collapsed": false,
    "ExecuteTime": {
     "end_time": "2023-10-26T16:34:57.795886200Z",
     "start_time": "2023-10-26T16:34:57.777870700Z"
    }
   },
   "id": "6e4cfee6cd7adc51"
  },
  {
   "cell_type": "code",
   "execution_count": 7,
   "outputs": [
    {
     "data": {
      "text/plain": "Card(rank='A', suit='hearts')"
     },
     "execution_count": 7,
     "metadata": {},
     "output_type": "execute_result"
    }
   ],
   "source": [
    "deck[-1]"
   ],
   "metadata": {
    "collapsed": false,
    "ExecuteTime": {
     "end_time": "2023-10-26T16:35:00.608077600Z",
     "start_time": "2023-10-26T16:35:00.590061800Z"
    }
   },
   "id": "bc885a1c2e8c79e"
  },
  {
   "cell_type": "code",
   "execution_count": 8,
   "outputs": [
    {
     "data": {
      "text/plain": "Card(rank='6', suit='spades')"
     },
     "execution_count": 8,
     "metadata": {},
     "output_type": "execute_result"
    }
   ],
   "source": [
    "from random import choice\n",
    "\n",
    "choice(deck)"
   ],
   "metadata": {
    "collapsed": false,
    "ExecuteTime": {
     "end_time": "2023-10-26T16:35:42.522703500Z",
     "start_time": "2023-10-26T16:35:42.498682200Z"
    }
   },
   "id": "1c542d9d35113b3"
  },
  {
   "cell_type": "code",
   "execution_count": null,
   "outputs": [],
   "source": [],
   "metadata": {
    "collapsed": false
   },
   "id": "8e205f2970c8dada"
  }
 ],
 "metadata": {
  "kernelspec": {
   "display_name": "Python 3",
   "language": "python",
   "name": "python3"
  },
  "language_info": {
   "codemirror_mode": {
    "name": "ipython",
    "version": 2
   },
   "file_extension": ".py",
   "mimetype": "text/x-python",
   "name": "python",
   "nbconvert_exporter": "python",
   "pygments_lexer": "ipython2",
   "version": "2.7.6"
  }
 },
 "nbformat": 4,
 "nbformat_minor": 5
}
