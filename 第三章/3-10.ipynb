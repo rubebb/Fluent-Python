{
 "cells": [
  {
   "cell_type": "markdown",
   "source": [
    "# MappingProxyType 根据 dict 对象构建只读的 mappingproxy实例"
   ],
   "metadata": {
    "collapsed": false
   },
   "id": "a83fd5c3ebd21419"
  },
  {
   "cell_type": "code",
   "execution_count": 1,
   "id": "initial_id",
   "metadata": {
    "collapsed": true,
    "ExecuteTime": {
     "end_time": "2023-11-10T16:24:37.913992800Z",
     "start_time": "2023-11-10T16:24:37.902982600Z"
    }
   },
   "outputs": [
    {
     "data": {
      "text/plain": "mappingproxy({1: 'A'})"
     },
     "execution_count": 1,
     "metadata": {},
     "output_type": "execute_result"
    }
   ],
   "source": [
    "from types import MappingProxyType\n",
    "\n",
    "d = {1: 'A'}\n",
    "d_proxy = MappingProxyType(d)\n",
    "d_proxy"
   ]
  },
  {
   "cell_type": "code",
   "execution_count": 2,
   "outputs": [
    {
     "data": {
      "text/plain": "'A'"
     },
     "execution_count": 2,
     "metadata": {},
     "output_type": "execute_result"
    }
   ],
   "source": [
    "d_proxy[1]"
   ],
   "metadata": {
    "collapsed": false,
    "ExecuteTime": {
     "end_time": "2023-11-10T16:24:39.716684200Z",
     "start_time": "2023-11-10T16:24:39.696665500Z"
    }
   },
   "id": "aac7643723488c9d"
  },
  {
   "cell_type": "code",
   "execution_count": 3,
   "outputs": [
    {
     "ename": "TypeError",
     "evalue": "'mappingproxy' object does not support item assignment",
     "output_type": "error",
     "traceback": [
      "\u001B[1;31m---------------------------------------------------------------------------\u001B[0m",
      "\u001B[1;31mTypeError\u001B[0m                                 Traceback (most recent call last)",
      "Cell \u001B[1;32mIn[3], line 1\u001B[0m\n\u001B[1;32m----> 1\u001B[0m \u001B[43md_proxy\u001B[49m\u001B[43m[\u001B[49m\u001B[38;5;241;43m2\u001B[39;49m\u001B[43m]\u001B[49m \u001B[38;5;241m=\u001B[39m \u001B[38;5;124m'\u001B[39m\u001B[38;5;124mx\u001B[39m\u001B[38;5;124m'\u001B[39m\n",
      "\u001B[1;31mTypeError\u001B[0m: 'mappingproxy' object does not support item assignment"
     ]
    }
   ],
   "source": [
    "d_proxy[2] = 'x'"
   ],
   "metadata": {
    "collapsed": false,
    "ExecuteTime": {
     "end_time": "2023-11-10T16:24:46.958406600Z",
     "start_time": "2023-11-10T16:24:46.503432300Z"
    }
   },
   "id": "e438bf448b77f2c"
  },
  {
   "cell_type": "code",
   "execution_count": 6,
   "outputs": [
    {
     "ename": "AttributeError",
     "evalue": "'mappingproxy' object has no attribute '__dict__'",
     "output_type": "error",
     "traceback": [
      "\u001B[1;31m---------------------------------------------------------------------------\u001B[0m",
      "\u001B[1;31mAttributeError\u001B[0m                            Traceback (most recent call last)",
      "Cell \u001B[1;32mIn[6], line 2\u001B[0m\n\u001B[0;32m      1\u001B[0m d[\u001B[38;5;241m2\u001B[39m] \u001B[38;5;241m=\u001B[39m \u001B[38;5;124m'\u001B[39m\u001B[38;5;124mB\u001B[39m\u001B[38;5;124m'\u001B[39m\n\u001B[1;32m----> 2\u001B[0m \u001B[43md_proxy\u001B[49m\u001B[38;5;241;43m.\u001B[39;49m\u001B[38;5;18;43m__dict__\u001B[39;49m\n",
      "\u001B[1;31mAttributeError\u001B[0m: 'mappingproxy' object has no attribute '__dict__'"
     ]
    }
   ],
   "source": [
    "d[2] = 'B'\n",
    "d_proxy"
   ],
   "metadata": {
    "collapsed": false,
    "ExecuteTime": {
     "end_time": "2023-11-10T17:22:43.604917500Z",
     "start_time": "2023-11-10T17:22:43.546789300Z"
    }
   },
   "id": "6011d18cfdc74949"
  },
  {
   "cell_type": "code",
   "execution_count": 5,
   "outputs": [
    {
     "data": {
      "text/plain": "'B'"
     },
     "execution_count": 5,
     "metadata": {},
     "output_type": "execute_result"
    }
   ],
   "source": [
    "d_proxy[2]"
   ],
   "metadata": {
    "collapsed": false,
    "ExecuteTime": {
     "end_time": "2023-11-10T16:24:59.758281300Z",
     "start_time": "2023-11-10T16:24:59.740265500Z"
    }
   },
   "id": "ecfed44333cd4166"
  },
  {
   "cell_type": "code",
   "execution_count": 7,
   "outputs": [
    {
     "data": {
      "text/plain": "mappingproxy({'__new__': <function mappingproxy.__new__(*args, **kwargs)>,\n              '__repr__': <slot wrapper '__repr__' of 'mappingproxy' objects>,\n              '__str__': <slot wrapper '__str__' of 'mappingproxy' objects>,\n              '__getattribute__': <slot wrapper '__getattribute__' of 'mappingproxy' objects>,\n              '__lt__': <slot wrapper '__lt__' of 'mappingproxy' objects>,\n              '__le__': <slot wrapper '__le__' of 'mappingproxy' objects>,\n              '__eq__': <slot wrapper '__eq__' of 'mappingproxy' objects>,\n              '__ne__': <slot wrapper '__ne__' of 'mappingproxy' objects>,\n              '__gt__': <slot wrapper '__gt__' of 'mappingproxy' objects>,\n              '__ge__': <slot wrapper '__ge__' of 'mappingproxy' objects>,\n              '__iter__': <slot wrapper '__iter__' of 'mappingproxy' objects>,\n              '__or__': <slot wrapper '__or__' of 'mappingproxy' objects>,\n              '__ror__': <slot wrapper '__ror__' of 'mappingproxy' objects>,\n              '__ior__': <slot wrapper '__ior__' of 'mappingproxy' objects>,\n              '__len__': <slot wrapper '__len__' of 'mappingproxy' objects>,\n              '__getitem__': <slot wrapper '__getitem__' of 'mappingproxy' objects>,\n              '__contains__': <slot wrapper '__contains__' of 'mappingproxy' objects>,\n              'get': <method 'get' of 'mappingproxy' objects>,\n              'keys': <method 'keys' of 'mappingproxy' objects>,\n              'values': <method 'values' of 'mappingproxy' objects>,\n              'items': <method 'items' of 'mappingproxy' objects>,\n              'copy': <method 'copy' of 'mappingproxy' objects>,\n              '__class_getitem__': <method '__class_getitem__' of 'mappingproxy' objects>,\n              '__reversed__': <method '__reversed__' of 'mappingproxy' objects>,\n              '__doc__': None,\n              '__hash__': None})"
     },
     "execution_count": 7,
     "metadata": {},
     "output_type": "execute_result"
    }
   ],
   "source": [
    "MappingProxyType.__dict__"
   ],
   "metadata": {
    "collapsed": false,
    "ExecuteTime": {
     "end_time": "2023-11-10T17:22:58.366410Z",
     "start_time": "2023-11-10T17:22:58.349248100Z"
    }
   },
   "id": "c8e924600b080414"
  },
  {
   "cell_type": "code",
   "execution_count": null,
   "outputs": [],
   "source": [],
   "metadata": {
    "collapsed": false
   },
   "id": "4b153e079145459f"
  }
 ],
 "metadata": {
  "kernelspec": {
   "display_name": "Python 3",
   "language": "python",
   "name": "python3"
  },
  "language_info": {
   "codemirror_mode": {
    "name": "ipython",
    "version": 2
   },
   "file_extension": ".py",
   "mimetype": "text/x-python",
   "name": "python",
   "nbconvert_exporter": "python",
   "pygments_lexer": "ipython2",
   "version": "2.7.6"
  }
 },
 "nbformat": 4,
 "nbformat_minor": 5
}
