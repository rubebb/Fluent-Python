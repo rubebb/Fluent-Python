{
 "cells": [
  {
   "cell_type": "markdown",
   "source": [
    "# 字典推导式示例"
   ],
   "metadata": {
    "collapsed": false
   },
   "id": "89179ba5a0da1ecc"
  },
  {
   "cell_type": "code",
   "execution_count": 1,
   "id": "initial_id",
   "metadata": {
    "collapsed": true,
    "ExecuteTime": {
     "end_time": "2023-11-01T13:39:04.422192800Z",
     "start_time": "2023-11-01T13:39:04.402432700Z"
    }
   },
   "outputs": [
    {
     "data": {
      "text/plain": "{'Bangladesh': 880,\n 'Brazil': 55,\n 'China': 86,\n 'India': 91,\n 'Indonesia': 62,\n 'Japan': 81,\n 'Nigeria': 234,\n 'Pakistan': 92,\n 'Russia': 7,\n 'United States': 1}"
     },
     "execution_count": 1,
     "metadata": {},
     "output_type": "execute_result"
    }
   ],
   "source": [
    "dial_codes = [\n",
    "    (880, 'Bangladesh'),\n",
    "    (55, 'Brazil'),\n",
    "    (86, 'China'),\n",
    "    (91, 'India'),\n",
    "    (62, 'Indonesia'),\n",
    "    (81, 'Japan'),\n",
    "    (234, 'Nigeria'),\n",
    "    (92, 'Pakistan'),\n",
    "    (7, 'Russia'),\n",
    "    (1, 'United States')\n",
    "]\n",
    "\n",
    "country_dial = {country: code for code, country in dial_codes}\n",
    "country_dial"
   ]
  },
  {
   "cell_type": "code",
   "execution_count": 3,
   "outputs": [
    {
     "data": {
      "text/plain": "{55: 'BRAZIL', 62: 'INDONESIA', 7: 'RUSSIA', 1: 'UNITED STATES'}"
     },
     "execution_count": 3,
     "metadata": {},
     "output_type": "execute_result"
    }
   ],
   "source": [
    "{code: country.upper() for country, code in sorted(country_dial.items()) if code < 70}"
   ],
   "metadata": {
    "collapsed": false,
    "ExecuteTime": {
     "end_time": "2023-11-01T13:42:26.560479900Z",
     "start_time": "2023-11-01T13:42:26.536457600Z"
    }
   },
   "id": "53f622b5186ef852"
  },
  {
   "cell_type": "code",
   "execution_count": null,
   "outputs": [],
   "source": [],
   "metadata": {
    "collapsed": false
   },
   "id": "2a2cd2318f5d0edf"
  }
 ],
 "metadata": {
  "kernelspec": {
   "display_name": "Python 3",
   "language": "python",
   "name": "python3"
  },
  "language_info": {
   "codemirror_mode": {
    "name": "ipython",
    "version": 2
   },
   "file_extension": ".py",
   "mimetype": "text/x-python",
   "name": "python",
   "nbconvert_exporter": "python",
   "pygments_lexer": "ipython2",
   "version": "2.7.6"
  }
 },
 "nbformat": 4,
 "nbformat_minor": 5
}
