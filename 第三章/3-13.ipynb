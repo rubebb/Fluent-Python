{
 "cells": [
  {
   "cell_type": "markdown",
   "source": [
    "# 统计 needless 在 haystack 中出现的次数 （二者均为集合类型）"
   ],
   "metadata": {
    "collapsed": false
   },
   "id": "861880ec55ffdff5"
  },
  {
   "cell_type": "code",
   "execution_count": null,
   "id": "initial_id",
   "metadata": {
    "collapsed": true
   },
   "outputs": [],
   "source": [
    "needless, haystack = {}, {}\n",
    "\n",
    "found = len(needless & haystack)"
   ]
  }
 ],
 "metadata": {
  "kernelspec": {
   "display_name": "Python 3",
   "language": "python",
   "name": "python3"
  },
  "language_info": {
   "codemirror_mode": {
    "name": "ipython",
    "version": 2
   },
   "file_extension": ".py",
   "mimetype": "text/x-python",
   "name": "python",
   "nbconvert_exporter": "python",
   "pygments_lexer": "ipython2",
   "version": "2.7.6"
  }
 },
 "nbformat": 4,
 "nbformat_minor": 5
}
