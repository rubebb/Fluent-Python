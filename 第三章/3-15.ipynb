{
 "cells": [
  {
   "cell_type": "raw",
   "source": [
    "# 构建一个集合， 元素为Unicode 名称中带有 \"SIGN\" 一次的 Latin-1 字符"
   ],
   "metadata": {
    "collapsed": false
   },
   "id": "d181c3edde260b1f"
  },
  {
   "cell_type": "code",
   "execution_count": 1,
   "outputs": [
    {
     "data": {
      "text/plain": "{'#',\n '$',\n '%',\n '+',\n '<',\n '=',\n '>',\n '¢',\n '£',\n '¤',\n '¥',\n '§',\n '©',\n '¬',\n '®',\n '°',\n '±',\n 'µ',\n '¶',\n '×',\n '÷'}"
     },
     "execution_count": 1,
     "metadata": {},
     "output_type": "execute_result"
    }
   ],
   "source": [
    "from unicodedata import name\n",
    "\n",
    "{chr(i) for i in range(32, 256) if 'SIGN' in name(chr(i), '')}  # 将代码在 32~255 的范围内 而且名称中带有 'SIGN' 一次的字符放入集合中"
   ],
   "metadata": {
    "collapsed": false
   },
   "id": "initial_id"
  },
  {
   "cell_type": "code",
   "execution_count": null,
   "outputs": [],
   "source": [],
   "metadata": {
    "collapsed": false
   },
   "id": "1cf7f7812026afe0"
  }
 ],
 "metadata": {
  "kernelspec": {
   "display_name": "Python 3",
   "language": "python",
   "name": "python3"
  },
  "language_info": {
   "codemirror_mode": {
    "name": "ipython",
    "version": 2
   },
   "file_extension": ".py",
   "mimetype": "text/x-python",
   "name": "python",
   "nbconvert_exporter": "python",
   "pygments_lexer": "ipython2",
   "version": "2.7.6"
  }
 },
 "nbformat": 4,
 "nbformat_minor": 5
}
