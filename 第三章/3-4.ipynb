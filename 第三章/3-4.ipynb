{
 "cells": [
  {
   "cell_type": "markdown",
   "source": [
    "# index0.py 使用 dict.get 获取并更新词出现的位置列表，编制索引（更好的方案见示例 3-5）"
   ],
   "metadata": {
    "collapsed": false
   },
   "id": "cd82bd5d589af163"
  },
  {
   "cell_type": "code",
   "execution_count": 1,
   "id": "initial_id",
   "metadata": {
    "collapsed": true,
    "ExecuteTime": {
     "end_time": "2023-11-08T14:03:26.072112300Z",
     "start_time": "2023-11-08T14:03:26.056098500Z"
    }
   },
   "outputs": [],
   "source": [
    "import re\n",
    "import sys\n",
    "\n",
    "WORD_RE = re.compile(r'\\w+')                        # Unicode 模式\n",
    "\n",
    "index = {}\n",
    "with open(sys.argv[1], encoding='utf-8') as fp:\n",
    "    for line_no, line in enumerate(fp, 1):\n",
    "        for match in WORD_RE.finditer(line):\n",
    "            word = match.group()\n",
    "            column_no = match.start() + 1\n",
    "            location = (line_no, column_no)         \n",
    "\n",
    "            occurrences = index.get(word, [])       # 找到 word 的位置或返回默认值 []\n",
    "            occurrences.append(location)            # 把新找到的 location 追加到 occurrences 中\n",
    "            index[word] = occurrences               # 把更新后的 occurrences 放入 index 字典，这里蕴含着一次对 index 的搜索操作\n",
    "\n",
    "for word in sorted(index, key=str.upper):\n",
    "    print(word, index[word])"
   ]
  },
  {
   "cell_type": "code",
   "execution_count": null,
   "outputs": [],
   "source": [],
   "metadata": {
    "collapsed": false
   },
   "id": "9165e3323f7c4a86"
  }
 ],
 "metadata": {
  "kernelspec": {
   "display_name": "Python 3",
   "language": "python",
   "name": "python3"
  },
  "language_info": {
   "codemirror_mode": {
    "name": "ipython",
    "version": 2
   },
   "file_extension": ".py",
   "mimetype": "text/x-python",
   "name": "python",
   "nbconvert_exporter": "python",
   "pygments_lexer": "ipython2",
   "version": "2.7.6"
  }
 },
 "nbformat": 4,
 "nbformat_minor": 5
}
